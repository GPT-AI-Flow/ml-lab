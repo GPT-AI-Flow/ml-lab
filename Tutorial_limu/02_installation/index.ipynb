{
 "cells": [
  {
   "cell_type": "markdown",
   "id": "6be0a7ef",
   "metadata": {},
   "source": [
    "## 本地安装\n",
    "\n",
    "### [可选] 使用 conda/miniconda环境\n",
    "\n",
    "```bash\n",
    "conda env remove d2l-zh\n",
    "conda create -n -y d2l-zh python=3.8 pip\n",
    "conda activate d2l-zh\n",
    "```\n",
    "\n",
    "### 安装需要的包\n",
    "\n",
    "```bash\n",
    "pip install -y jupyter d2l torch torchvision\n",
    "```\n",
    "### 下载代码并执行\n",
    "\n",
    "```bash\n",
    "wget https://zh-v2.d2l.ai/d2l-zh.zip\n",
    "unzip d2l-zh.zip\n",
    "jupyter notebook\n",
    "```"
   ]
  }
 ],
 "metadata": {
  "language_info": {
   "name": "python"
  }
 },
 "nbformat": 4,
 "nbformat_minor": 5
}
