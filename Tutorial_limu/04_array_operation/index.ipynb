{
 "cells": [
  {
   "cell_type": "markdown",
   "id": "a479ae32",
   "metadata": {},
   "source": [
    "## N 维数组\n",
    "\n",
    "![](./img/2025-08-28-img-1.png)\n",
    "\n",
    "![](./img/2025-08-28-img-2.png)"
   ]
  },
  {
   "cell_type": "markdown",
   "id": "27bd0537",
   "metadata": {},
   "source": [
    "## 访问数组元素\n",
    "\n",
    "![](./img/2025-08-28-img-3.png)"
   ]
  }
 ],
 "metadata": {
  "language_info": {
   "name": "python"
  }
 },
 "nbformat": 4,
 "nbformat_minor": 5
}
