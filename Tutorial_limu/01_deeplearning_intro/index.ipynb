{
 "cells": [
  {
   "cell_type": "markdown",
   "id": "9f3b3129",
   "metadata": {},
   "source": [
    "## AI 地图\n",
    "\n",
    "![](./img/2025-08-28-img-4.png)"
   ]
  },
  {
   "cell_type": "markdown",
   "id": "8cc76916",
   "metadata": {},
   "source": [
    "## 深度学习应用\n",
    "\n",
    "### 图片分类\n",
    "\n",
    "- https://image-net.org/\n",
    "\n",
    "### 物体检测和分割\n",
    "\n",
    "- 物体检测: 某个东西出现什么地方？\n",
    "- 物体分割: 某个像素属于哪个物体？\n",
    "- https://github.com/matterport/Mask_RCNN\n",
    "\n",
    "### 样式迁移\n",
    "\n",
    "- 将样式图片与内容图片结合(滤镜)\n",
    "- https://github.com/zhanghang1989/MXNet-Gluon-Style-Transfer\n",
    "\n",
    "### 人脸合成\n",
    "\n",
    "- Karras et al, ICLR 2018\n",
    "\n",
    "### 文字生成图片\n",
    "\n",
    "- https://openai.com/blog/dall-e/\n",
    "\n",
    "### 文字生成\n",
    "\n",
    "- GPT-3\n",
    "\n",
    "### 无人驾驶\n",
    "\n",
    "- Tesla 无人驾驶"
   ]
  },
  {
   "cell_type": "markdown",
   "id": "f2a14ed6",
   "metadata": {},
   "source": [
    "## 案例研究 - 广告点击\n",
    "\n",
    "### 问题定义\n",
    "\n",
    "![](./img/2025-08-28-img-5.png)\n",
    "\n",
    "任务: 通过用户输入，怎样提供广告？\n",
    "\n",
    "![](./img/2025-08-28-img-6.png)\n",
    "\n",
    "### 预测与训练\n",
    "\n",
    "![](./img/2025-08-28-img-7.png)\n",
    "\n",
    "### 完整故事\n",
    "\n",
    "![](./img/2025-08-28-img-8.png)\n"
   ]
  }
 ],
 "metadata": {
  "language_info": {
   "name": "python"
  }
 },
 "nbformat": 4,
 "nbformat_minor": 5
}
