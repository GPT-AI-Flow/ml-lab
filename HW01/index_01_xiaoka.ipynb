{
  "cells": [
    {
      "cell_type": "markdown",
      "id": "b1a38eb6",
      "metadata": {
        "id": "b1a38eb6"
      },
      "source": [
        "## Download Data"
      ]
    },
    {
      "cell_type": "code",
      "execution_count": 49,
      "id": "5c2d13e8",
      "metadata": {
        "colab": {
          "base_uri": "https://localhost:8080/"
        },
        "id": "5c2d13e8",
        "outputId": "7400736b-0d36-4c06-cba7-de8f2a5fea8b"
      },
      "outputs": [],
      "source": [
        "tr_path = \"./data/covid.train.csv\"\n",
        "tt_path = \"./data/covid.test.csv\"\n",
        "\n",
        "# tr_path = 'covid.train.csv'  # path to training data\n",
        "# tt_path = 'covid.test.csv'   # path to testing data\n",
        "\n",
        "# !gdown --id '19CCyCgJrUxtvgZF53vnctJiOJ23T5mqF' --output covid.train.csv\n",
        "# !gdown --id '1CE240jLm2npU-tdz81-oVKEF3T2yfT1O' --output covid.test.csv"
      ]
    },
    {
      "cell_type": "markdown",
      "id": "252a4a96",
      "metadata": {
        "id": "252a4a96"
      },
      "source": [
        "## Import Some Packages"
      ]
    },
    {
      "cell_type": "code",
      "execution_count": 50,
      "id": "78bcc856",
      "metadata": {
        "id": "78bcc856"
      },
      "outputs": [],
      "source": [
        "import os\n",
        "\n",
        "# PyTorch\n",
        "import torch\n",
        "import torch.nn as nn\n",
        "from torch.utils.data import Dataset, DataLoader\n",
        "\n",
        "# For data preprocess\n",
        "import numpy as np\n",
        "import csv\n",
        "import os\n",
        "\n",
        "# For plotting\n",
        "import matplotlib.pyplot as plt\n",
        "from matplotlib.pyplot import figure\n",
        "\n",
        "# Sklearn\n",
        "import sklearn\n",
        "from sklearn.feature_selection import SelectKBest, f_regression\n",
        "from sklearn import preprocessing\n",
        "\n",
        "# Pandas\n",
        "import pandas as pd\n",
        "\n",
        "# Random\n",
        "import random"
      ]
    },
    {
      "cell_type": "code",
      "execution_count": 53,
      "id": "TrsmSaTPym8K",
      "metadata": {
        "colab": {
          "base_uri": "https://localhost:8080/"
        },
        "id": "TrsmSaTPym8K",
        "outputId": "fcb1fed2-f95e-4ad7-b36a-1adf7e3833f8"
      },
      "outputs": [
        {
          "name": "stdout",
          "output_type": "stream",
          "text": [
            "Number of CUDA devices: 0\n"
          ]
        }
      ],
      "source": [
        "def set_seed(seed):\n",
        "  \"\"\"为所有常见的随机性来源设置种子\"\"\"\n",
        "  np.random.seed(seed)    # 为 NumPy 设置种子\n",
        "  random.seed(seed)       # 为 Python 内置 random 模块设置种子\n",
        "  torch.manual_seed(seed) # 为 PyTorch CPU 设置种子\n",
        "  if torch.cuda.is_available():\n",
        "    torch.cuda.manual_seed(seed) # 为当前GPU设置种子\n",
        "    torch.cuda.manual_seed_all(seed) # 为所有GPU设置种子（如果有多块）\n",
        "\n",
        "  # 一些 CuDNN 基准优化操作本身具有不确定性，固定它们以保证可重复性\n",
        "  torch.backends.cudnn.deterministic = True\n",
        "  torch.backends.cudnn.benchmark = False\n",
        "\n",
        "  # 为 Python 环境变量设置种子（影响哈希等行为）\n",
        "  os.environ['PYTHONHASHSEED'] = str(seed)\n",
        "\n",
        "myseed = 42069\n",
        "set_seed(myseed)\n",
        "\n",
        "device_count = torch.cuda.device_count()\n",
        "print(f\"Number of CUDA devices: {device_count}\")"
      ]
    },
    {
      "cell_type": "markdown",
      "id": "ef0bd330",
      "metadata": {
        "id": "ef0bd330"
      },
      "source": [
        "## Some Utilities"
      ]
    },
    {
      "cell_type": "code",
      "execution_count": 54,
      "id": "7FAfDo1sz1RQ",
      "metadata": {
        "id": "7FAfDo1sz1RQ"
      },
      "outputs": [],
      "source": [
        "def get_device():\n",
        "    ''' Get device (if GPU is available, use GPU) '''\n",
        "    return 'cuda' if torch.cuda.is_available() else 'cpu'\n",
        "\n",
        "def plot_learning_curve(loss_record, title=''):\n",
        "    ''' Plot learning curve of your DNN (train & dev loss) '''\n",
        "    total_steps = len(loss_record['train'])\n",
        "    x_1 = range(total_steps)\n",
        "    x_2 = x_1[::len(loss_record['train']) // len(loss_record['dev'])]\n",
        "    figure(figsize=(6, 4))\n",
        "    plt.plot(x_1, loss_record['train'], c='tab:red', label='train')\n",
        "    plt.plot(x_2, loss_record['dev'], c='tab:cyan', label='dev')\n",
        "    plt.ylim(0.0, 5.)\n",
        "    plt.xlabel('Training steps')\n",
        "    plt.ylabel('MSE loss')\n",
        "    plt.title('Learning curve of {}'.format(title))\n",
        "    plt.legend()\n",
        "    plt.show()\n",
        "\n",
        "\n",
        "def plot_pred(dv_set, model, device, lim=35., preds=None, targets=None):\n",
        "    ''' Plot prediction of your DNN '''\n",
        "    if preds is None or targets is None:\n",
        "        model.eval()\n",
        "        preds, targets = [], []\n",
        "        for x, y in dv_set:\n",
        "            x, y = x.to(device), y.to(device)\n",
        "            with torch.no_grad():\n",
        "                pred = model(x)\n",
        "                preds.append(pred.detach().cpu())\n",
        "                targets.append(y.detach().cpu())\n",
        "        preds = torch.cat(preds, dim=0).numpy()\n",
        "        targets = torch.cat(targets, dim=0).numpy()\n",
        "\n",
        "    figure(figsize=(5, 5))\n",
        "    plt.scatter(targets, preds, c='r', alpha=0.5)\n",
        "    plt.plot([-0.2, lim], [-0.2, lim], c='b')\n",
        "    plt.xlim(-0.2, lim)\n",
        "    plt.ylim(-0.2, lim)\n",
        "    plt.xlabel('ground truth value')\n",
        "    plt.ylabel('predicted value')\n",
        "    plt.title('Ground Truth v.s. Prediction')\n",
        "    plt.show()"
      ]
    },
    {
      "cell_type": "markdown",
      "id": "18ce3570",
      "metadata": {
        "id": "18ce3570"
      },
      "source": [
        "## Preprocess\n",
        "\n",
        "We have three kinds of dataset:\n",
        "- `train`: for training\n",
        "- `dev`: for validation\n",
        "- `test`: for testing (w/o target value)"
      ]
    },
    {
      "cell_type": "markdown",
      "id": "cf797971",
      "metadata": {
        "id": "cf797971"
      },
      "source": [
        "### Dataset\n",
        "\n",
        "The `COVID19Dataset` below does:\n",
        "- read `.csv` files\n",
        "- extract features\n",
        "- split `covid.train.csv` into train/dev sets\n",
        "- normalize features\n",
        "\n",
        "Finishing `TODO` below might make you pass medium baseline."
      ]
    },
    {
      "cell_type": "code",
      "execution_count": 55,
      "id": "4e977583",
      "metadata": {
        "id": "4e977583"
      },
      "outputs": [],
      "source": [
        "class COVID19Dataset(Dataset):\n",
        "    \"\"\"Dataset for loading and preprocessing the COVID19 dataset\"\"\"\n",
        "    def __init__(self, path:str , mode='train', target_only=False):\n",
        "        self.mode = mode\n",
        "\n",
        "        # Read data into numpy arrays\n",
        "        with open(path, 'r') as fp:\n",
        "            data = list(csv.reader(fp))\n",
        "            data = np.array(data[1:])[:, 1:].astype(float)\n",
        "\n",
        "        if not target_only:\n",
        "            feats = list(range(93))\n",
        "        else:\n",
        "            # TODO: using 40 states & 2 tested_positive features (indices = 57 & 75)\n",
        "            feats = list(range(40)) + [58, 76]\n",
        "\n",
        "        if mode == 'test':\n",
        "            # Testing data\n",
        "            # data: 893 x 93 (40 states + day 1 (18) + day 2(18) + day 3 (17))\n",
        "            data = data[:, feats]\n",
        "            self.data = torch.FloatTensor(data)\n",
        "        else:\n",
        "            # Training data (train/dev sets)\n",
        "            # data: 2700 x 94 (40 states + day 1 (18) + day 2(18) + day 3 (18))\n",
        "            target = data[:, -1]\n",
        "            data = data[:, feats]\n",
        "\n",
        "            # Splitting training data into train & dev sets\n",
        "            if mode == 'train':\n",
        "                indices  = [i for i in range(len(data)) if i % 10 != 0]\n",
        "            elif mode == 'dev':\n",
        "                indices = [i for i in range(len(data)) if i % 10 == 0]\n",
        "\n",
        "            # Convert data into PyTorch tensors\n",
        "            print(\"convert data into PyTorch tensors with \", indices)\n",
        "            self.data = torch.FloatTensor(data[indices])\n",
        "            self.target = torch.FloatTensor(target[indices])\n",
        "\n",
        "        # Normalize features (you may remove this part to see what will happen)\n",
        "        self.data[:, 40:] = \\\n",
        "            (self.data[:, 40:] - self.data[:, 40:].mean(dim=0, keepdim=True)) \\\n",
        "            / self.data[:, 40:].std(dim=0, keepdim=True)\n",
        "        self.dim = self.data.shape[1] # get features num, self.data.shape -> (num_samples, num_features)\n",
        "        print('Finished reading the {} set of COVID19 Dataset ({} samples found, each dim = {})'\n",
        "              .format(mode, len(self.data), self.dim))\n",
        "\n",
        "    def __getitem__(self, index):\n",
        "        # Returns one sample at a time\n",
        "        if self.mode in ['train', 'dev']:\n",
        "            # For training\n",
        "            return self.data[index], self.target[index]\n",
        "        else:\n",
        "            # For testing (no target)\n",
        "            return self.data[index]\n",
        "\n",
        "    def __len__(self):\n",
        "        # Return the size of the dataset\n",
        "        return len(self.data)"
      ]
    },
    {
      "cell_type": "markdown",
      "id": "995444f7",
      "metadata": {
        "id": "995444f7"
      },
      "source": [
        "### DataLoader\n",
        "\n",
        "A `DataLoader` loads data from a given Dataset into batches."
      ]
    },
    {
      "cell_type": "code",
      "execution_count": 56,
      "id": "8f9324d7",
      "metadata": {
        "id": "8f9324d7"
      },
      "outputs": [],
      "source": [
        "def prep_dataloader(path, mode, batch_size, n_jobs=0, target_only=False):\n",
        "    ''' Generates a dataset, then is put into a dataloader. '''\n",
        "    dataset = COVID19Dataset(path, mode=mode, target_only=target_only)  # Construct dataset\n",
        "    dataloader = DataLoader(\n",
        "        dataset, batch_size,\n",
        "        shuffle=(mode == 'train'), drop_last=False,\n",
        "        num_workers=n_jobs, pin_memory=True)                            # Construct dataloader\n",
        "    return dataloader"
      ]
    },
    {
      "cell_type": "markdown",
      "id": "052a5c8b",
      "metadata": {
        "id": "052a5c8b"
      },
      "source": [
        "## Deep Neural Network\n",
        "\n",
        "`NeuralNet` is an `nn.Module` designed for regression.\n",
        "The DNN consists of 2 fully-connected layers with ReLU activation.\n",
        "This module also included a function `cal_loss` for calculating loss."
      ]
    },
    {
      "cell_type": "code",
      "execution_count": 57,
      "id": "a9d3ad46",
      "metadata": {
        "id": "a9d3ad46"
      },
      "outputs": [],
      "source": [
        "class NeuralNet(nn.Module):\n",
        "    \"\"\"A simple fully-connected deep neural network\"\"\"\n",
        "    def __init__(self, input_dim):\n",
        "        super(NeuralNet, self).__init__()\n",
        "\n",
        "        # Define your neural network here\n",
        "        # TODO: How to modify this model to achieve better performance?\n",
        "        self.net = nn.Sequential(\n",
        "            nn.Linear(input_dim, 64),\n",
        "            nn.ReLU(),\n",
        "            nn.Linear(64, 1)\n",
        "        )\n",
        "\n",
        "        # Mean squared error loss\n",
        "        self.criterion = nn.MSELoss(reduction='mean')\n",
        "\n",
        "        # 添加正则化参数\n",
        "        self.l1_lambda = 0.001  # L1正则化系数\n",
        "        self.l2_lambda = 0.001  # L2正则化系数\n",
        "\n",
        "    def forward(self, x):\n",
        "        \"\"\"Given input of size (batch_size x input_dim), compute output of the network\"\"\"\n",
        "        return self.net(x).squeeze(1)\n",
        "\n",
        "    def cal_loss(self, pred, target):\n",
        "        \"\"\"Caluculate loss\"\"\"\n",
        "        # TODO: you may implement L1/L2 regularization here\n",
        "\n",
        "        # 计算基础 MSE 损失\n",
        "        mse_loss = self.criterion(pred, target)\n",
        "\n",
        "        # 初始化正则化损失\n",
        "        l1_reg_loss = 0\n",
        "        l2_reg_loss = 0\n",
        "\n",
        "        # 遍历所有参数，计算 L1 和 L2 正则化\n",
        "        for name, param in self.named_parameters():\n",
        "          if 'weight' in name: # 通常只对权重进行正则化，不包括偏置\n",
        "            l1_reg_loss += torch.sum(torch.abs(param))\n",
        "            l2_reg_loss += torch.sum(param**2)\n",
        "\n",
        "        # 总损失 = MSE 损失 + L1 正则化 + L2 正则化\n",
        "        total_loss = mse_loss + self.l1_lambda * l1_reg_loss + self.l2_lambda * l2_reg_loss\n",
        "\n",
        "        return total_loss"
      ]
    },
    {
      "cell_type": "markdown",
      "id": "194a96a4",
      "metadata": {
        "id": "194a96a4"
      },
      "source": [
        "## Train/Dev/Test"
      ]
    },
    {
      "cell_type": "markdown",
      "id": "e249092d",
      "metadata": {
        "id": "e249092d"
      },
      "source": [
        "### Training"
      ]
    },
    {
      "cell_type": "code",
      "execution_count": 58,
      "id": "4bea01ac",
      "metadata": {
        "id": "4bea01ac"
      },
      "outputs": [],
      "source": [
        "def train(tr_set, dv_set, model, config, device):\n",
        "    \"\"\"DNN training\"\"\"\n",
        "    n_epochs = config['n_epochs'] # Maxium number of epoches\n",
        "\n",
        "    # Setup optimizer\n",
        "    optimizer = getattr(torch.optim, config['optimizer'])(\n",
        "        model.parameters(), **config['optim_hparas']\n",
        "    )\n",
        "\n",
        "    min_mse = 1000.\n",
        "    loss_record = {'train': [], 'dev': []}     # for recording training loss\n",
        "    early_stop_cnt = 0\n",
        "    epoch = 0\n",
        "    while epoch < n_epochs:\n",
        "        model.train()                          # set model to training mode\n",
        "        for x, y in tr_set:                    # interate through the dataloader\n",
        "            # print(\"x in train loop: \", x)\n",
        "            # print(\"y in train loop: \", y)\n",
        "            optimizer.zero_grad()              # set gradient to zero\n",
        "            x, y = x.to(device), y.to(device)  # move data to device (CPU/GPU)\n",
        "            pred = model(x)                    # forward pass (compute output)\n",
        "            mse_loss = model.cal_loss(pred, y) # compute loss\n",
        "            mse_loss.backward()                # compute gradient (backpropagation)\n",
        "            optimizer.step()                   # update model with optimizer\n",
        "            loss_record['train'].append(mse_loss.detach().cpu().item())\n",
        "\n",
        "        # After each epoch, test your model on the validation (development) set.\n",
        "        dev_mse = dev(dv_set, model, device)\n",
        "        if dev_mse < min_mse:\n",
        "            # Save model if your model improved\n",
        "            min_mse = dev_mse\n",
        "            print('Saving model (epoch = {:4d}, loss = {:.4f})'\n",
        "                .format(epoch + 1, min_mse))\n",
        "            torch.save(model.state_dict(), config['save_path']) # Save model to specified path\n",
        "            early_stop_cnt = 0\n",
        "        else:\n",
        "            early_stop_cnt += 1\n",
        "\n",
        "        epoch += 1\n",
        "        loss_record['dev'].append(dev_mse)\n",
        "        if early_stop_cnt > config['early_stop']:\n",
        "            # Stop training if your model stops improving for \"config['early_stop']\" epochs.\n",
        "            break\n",
        "\n",
        "    print('Finished training after {} epochs'.format(epoch))\n",
        "    return min_mse, loss_record\n"
      ]
    },
    {
      "cell_type": "markdown",
      "id": "bb62031e",
      "metadata": {
        "id": "bb62031e"
      },
      "source": [
        "### Validation"
      ]
    },
    {
      "cell_type": "code",
      "execution_count": 59,
      "id": "68042eda",
      "metadata": {
        "id": "68042eda"
      },
      "outputs": [],
      "source": [
        "def dev(dv_set, model, device):\n",
        "    \"\"\"DNN validation\"\"\"\n",
        "    model.eval()                                              # set model to evaluation mode\n",
        "\n",
        "    total_loss = 0\n",
        "\n",
        "    for x, y in dv_set:                                       # interate through the dataloader\n",
        "        x, y = x.to(device), y.to(device)                     # move data to device (CPU/GPU)\n",
        "        with torch.no_grad():                                 # disable gradient calculation\n",
        "            pred = model(x)                                   # forward pass (compute output)\n",
        "            mse_loss = model.cal_loss(pred, y)                # compute loss\n",
        "        total_loss += mse_loss.detach().cpu().item() * len(x) # accumulate loss\n",
        "\n",
        "    total_loss = total_loss / len(dv_set.dataset)             # compute averaged loss\n",
        "\n",
        "    return total_loss\n"
      ]
    },
    {
      "cell_type": "markdown",
      "id": "feb5d9f9",
      "metadata": {
        "id": "feb5d9f9"
      },
      "source": [
        "### Testing"
      ]
    },
    {
      "cell_type": "code",
      "execution_count": 60,
      "id": "c5d0ad5e",
      "metadata": {
        "id": "c5d0ad5e"
      },
      "outputs": [],
      "source": [
        "def test(tt_set, model, device):\n",
        "    model.eval()                                # set model to evalutation mode\n",
        "    preds = []\n",
        "    for x in tt_set:                            # iterate through the dataloader\n",
        "        x = x.to(device)                        # move data to device (cpu/cuda)\n",
        "        with torch.no_grad():                   # disable gradient calculation\n",
        "            pred = model(x)                     # forward pass (compute output)\n",
        "            preds.append(pred.detach().cpu())   # collect prediction\n",
        "    preds = torch.cat(preds, dim=0).numpy()     # concatenate all predictions and convert to a numpy array\n",
        "    return preds"
      ]
    },
    {
      "cell_type": "markdown",
      "id": "5e0fff31",
      "metadata": {
        "id": "5e0fff31"
      },
      "source": [
        "## Setup Hyper-parameters\n",
        "\n",
        "`config` contains hyper-parameters for training and the path to save your model."
      ]
    },
    {
      "cell_type": "code",
      "execution_count": 61,
      "id": "2ae0ba1a",
      "metadata": {
        "colab": {
          "base_uri": "https://localhost:8080/"
        },
        "id": "2ae0ba1a",
        "outputId": "6d2fe147-5bba-4fc1-8e10-bf5e9cf3f34d"
      },
      "outputs": [
        {
          "name": "stdout",
          "output_type": "stream",
          "text": [
            "device:  cpu\n"
          ]
        }
      ],
      "source": [
        "device = get_device()                 # get the current available device ('cpu' or 'cuda')\n",
        "os.makedirs('models', exist_ok=True)  # The trained model will be saved to ./models/\n",
        "target_only = False                   # TODO: Using 40 states & 2 tested_positive features\n",
        "\n",
        "# TODO: How to tune these hyper-parameters to improve your model's performance?\n",
        "config = {\n",
        "    'n_epochs': 3000,                # maximum number of epochs\n",
        "    'batch_size': 270,               # mini-batch size for dataloader\n",
        "    'optimizer': 'SGD',              # optimization algorithm (optimizer in torch.optim)\n",
        "    'optim_hparas': {                # hyper-parameters for the optimizer (depends on which optimizer you are using)\n",
        "        'lr': 0.001,                 # learning rate of SGD\n",
        "        'momentum': 0.9              # momentum for SGD\n",
        "    },\n",
        "    'early_stop': 200,               # early stopping epochs (the number epochs since your model's last improvement)\n",
        "    'save_path': 'models/model.pth'  # your model will be saved here\n",
        "}\n",
        "print(\"device: \", device)"
      ]
    },
    {
      "cell_type": "markdown",
      "id": "44d0075e",
      "metadata": {
        "id": "44d0075e"
      },
      "source": [
        "## Load data and model"
      ]
    },
    {
      "cell_type": "code",
      "execution_count": 62,
      "id": "c7be7f57",
      "metadata": {
        "colab": {
          "base_uri": "https://localhost:8080/"
        },
        "id": "c7be7f57",
        "outputId": "12012406-8d13-487a-95d9-b1a7abfa3a1e"
      },
      "outputs": [
        {
          "name": "stdout",
          "output_type": "stream",
          "text": [
            "convert data into PyTorch tensors with  [1, 2, 3, 4, 5, 6, 7, 8, 9, 11, 12, 13, 14, 15, 16, 17, 18, 19, 21, 22, 23, 24, 25, 26, 27, 28, 29, 31, 32, 33, 34, 35, 36, 37, 38, 39, 41, 42, 43, 44, 45, 46, 47, 48, 49, 51, 52, 53, 54, 55, 56, 57, 58, 59, 61, 62, 63, 64, 65, 66, 67, 68, 69, 71, 72, 73, 74, 75, 76, 77, 78, 79, 81, 82, 83, 84, 85, 86, 87, 88, 89, 91, 92, 93, 94, 95, 96, 97, 98, 99, 101, 102, 103, 104, 105, 106, 107, 108, 109, 111, 112, 113, 114, 115, 116, 117, 118, 119, 121, 122, 123, 124, 125, 126, 127, 128, 129, 131, 132, 133, 134, 135, 136, 137, 138, 139, 141, 142, 143, 144, 145, 146, 147, 148, 149, 151, 152, 153, 154, 155, 156, 157, 158, 159, 161, 162, 163, 164, 165, 166, 167, 168, 169, 171, 172, 173, 174, 175, 176, 177, 178, 179, 181, 182, 183, 184, 185, 186, 187, 188, 189, 191, 192, 193, 194, 195, 196, 197, 198, 199, 201, 202, 203, 204, 205, 206, 207, 208, 209, 211, 212, 213, 214, 215, 216, 217, 218, 219, 221, 222, 223, 224, 225, 226, 227, 228, 229, 231, 232, 233, 234, 235, 236, 237, 238, 239, 241, 242, 243, 244, 245, 246, 247, 248, 249, 251, 252, 253, 254, 255, 256, 257, 258, 259, 261, 262, 263, 264, 265, 266, 267, 268, 269, 271, 272, 273, 274, 275, 276, 277, 278, 279, 281, 282, 283, 284, 285, 286, 287, 288, 289, 291, 292, 293, 294, 295, 296, 297, 298, 299, 301, 302, 303, 304, 305, 306, 307, 308, 309, 311, 312, 313, 314, 315, 316, 317, 318, 319, 321, 322, 323, 324, 325, 326, 327, 328, 329, 331, 332, 333, 334, 335, 336, 337, 338, 339, 341, 342, 343, 344, 345, 346, 347, 348, 349, 351, 352, 353, 354, 355, 356, 357, 358, 359, 361, 362, 363, 364, 365, 366, 367, 368, 369, 371, 372, 373, 374, 375, 376, 377, 378, 379, 381, 382, 383, 384, 385, 386, 387, 388, 389, 391, 392, 393, 394, 395, 396, 397, 398, 399, 401, 402, 403, 404, 405, 406, 407, 408, 409, 411, 412, 413, 414, 415, 416, 417, 418, 419, 421, 422, 423, 424, 425, 426, 427, 428, 429, 431, 432, 433, 434, 435, 436, 437, 438, 439, 441, 442, 443, 444, 445, 446, 447, 448, 449, 451, 452, 453, 454, 455, 456, 457, 458, 459, 461, 462, 463, 464, 465, 466, 467, 468, 469, 471, 472, 473, 474, 475, 476, 477, 478, 479, 481, 482, 483, 484, 485, 486, 487, 488, 489, 491, 492, 493, 494, 495, 496, 497, 498, 499, 501, 502, 503, 504, 505, 506, 507, 508, 509, 511, 512, 513, 514, 515, 516, 517, 518, 519, 521, 522, 523, 524, 525, 526, 527, 528, 529, 531, 532, 533, 534, 535, 536, 537, 538, 539, 541, 542, 543, 544, 545, 546, 547, 548, 549, 551, 552, 553, 554, 555, 556, 557, 558, 559, 561, 562, 563, 564, 565, 566, 567, 568, 569, 571, 572, 573, 574, 575, 576, 577, 578, 579, 581, 582, 583, 584, 585, 586, 587, 588, 589, 591, 592, 593, 594, 595, 596, 597, 598, 599, 601, 602, 603, 604, 605, 606, 607, 608, 609, 611, 612, 613, 614, 615, 616, 617, 618, 619, 621, 622, 623, 624, 625, 626, 627, 628, 629, 631, 632, 633, 634, 635, 636, 637, 638, 639, 641, 642, 643, 644, 645, 646, 647, 648, 649, 651, 652, 653, 654, 655, 656, 657, 658, 659, 661, 662, 663, 664, 665, 666, 667, 668, 669, 671, 672, 673, 674, 675, 676, 677, 678, 679, 681, 682, 683, 684, 685, 686, 687, 688, 689, 691, 692, 693, 694, 695, 696, 697, 698, 699, 701, 702, 703, 704, 705, 706, 707, 708, 709, 711, 712, 713, 714, 715, 716, 717, 718, 719, 721, 722, 723, 724, 725, 726, 727, 728, 729, 731, 732, 733, 734, 735, 736, 737, 738, 739, 741, 742, 743, 744, 745, 746, 747, 748, 749, 751, 752, 753, 754, 755, 756, 757, 758, 759, 761, 762, 763, 764, 765, 766, 767, 768, 769, 771, 772, 773, 774, 775, 776, 777, 778, 779, 781, 782, 783, 784, 785, 786, 787, 788, 789, 791, 792, 793, 794, 795, 796, 797, 798, 799, 801, 802, 803, 804, 805, 806, 807, 808, 809, 811, 812, 813, 814, 815, 816, 817, 818, 819, 821, 822, 823, 824, 825, 826, 827, 828, 829, 831, 832, 833, 834, 835, 836, 837, 838, 839, 841, 842, 843, 844, 845, 846, 847, 848, 849, 851, 852, 853, 854, 855, 856, 857, 858, 859, 861, 862, 863, 864, 865, 866, 867, 868, 869, 871, 872, 873, 874, 875, 876, 877, 878, 879, 881, 882, 883, 884, 885, 886, 887, 888, 889, 891, 892, 893, 894, 895, 896, 897, 898, 899, 901, 902, 903, 904, 905, 906, 907, 908, 909, 911, 912, 913, 914, 915, 916, 917, 918, 919, 921, 922, 923, 924, 925, 926, 927, 928, 929, 931, 932, 933, 934, 935, 936, 937, 938, 939, 941, 942, 943, 944, 945, 946, 947, 948, 949, 951, 952, 953, 954, 955, 956, 957, 958, 959, 961, 962, 963, 964, 965, 966, 967, 968, 969, 971, 972, 973, 974, 975, 976, 977, 978, 979, 981, 982, 983, 984, 985, 986, 987, 988, 989, 991, 992, 993, 994, 995, 996, 997, 998, 999, 1001, 1002, 1003, 1004, 1005, 1006, 1007, 1008, 1009, 1011, 1012, 1013, 1014, 1015, 1016, 1017, 1018, 1019, 1021, 1022, 1023, 1024, 1025, 1026, 1027, 1028, 1029, 1031, 1032, 1033, 1034, 1035, 1036, 1037, 1038, 1039, 1041, 1042, 1043, 1044, 1045, 1046, 1047, 1048, 1049, 1051, 1052, 1053, 1054, 1055, 1056, 1057, 1058, 1059, 1061, 1062, 1063, 1064, 1065, 1066, 1067, 1068, 1069, 1071, 1072, 1073, 1074, 1075, 1076, 1077, 1078, 1079, 1081, 1082, 1083, 1084, 1085, 1086, 1087, 1088, 1089, 1091, 1092, 1093, 1094, 1095, 1096, 1097, 1098, 1099, 1101, 1102, 1103, 1104, 1105, 1106, 1107, 1108, 1109, 1111, 1112, 1113, 1114, 1115, 1116, 1117, 1118, 1119, 1121, 1122, 1123, 1124, 1125, 1126, 1127, 1128, 1129, 1131, 1132, 1133, 1134, 1135, 1136, 1137, 1138, 1139, 1141, 1142, 1143, 1144, 1145, 1146, 1147, 1148, 1149, 1151, 1152, 1153, 1154, 1155, 1156, 1157, 1158, 1159, 1161, 1162, 1163, 1164, 1165, 1166, 1167, 1168, 1169, 1171, 1172, 1173, 1174, 1175, 1176, 1177, 1178, 1179, 1181, 1182, 1183, 1184, 1185, 1186, 1187, 1188, 1189, 1191, 1192, 1193, 1194, 1195, 1196, 1197, 1198, 1199, 1201, 1202, 1203, 1204, 1205, 1206, 1207, 1208, 1209, 1211, 1212, 1213, 1214, 1215, 1216, 1217, 1218, 1219, 1221, 1222, 1223, 1224, 1225, 1226, 1227, 1228, 1229, 1231, 1232, 1233, 1234, 1235, 1236, 1237, 1238, 1239, 1241, 1242, 1243, 1244, 1245, 1246, 1247, 1248, 1249, 1251, 1252, 1253, 1254, 1255, 1256, 1257, 1258, 1259, 1261, 1262, 1263, 1264, 1265, 1266, 1267, 1268, 1269, 1271, 1272, 1273, 1274, 1275, 1276, 1277, 1278, 1279, 1281, 1282, 1283, 1284, 1285, 1286, 1287, 1288, 1289, 1291, 1292, 1293, 1294, 1295, 1296, 1297, 1298, 1299, 1301, 1302, 1303, 1304, 1305, 1306, 1307, 1308, 1309, 1311, 1312, 1313, 1314, 1315, 1316, 1317, 1318, 1319, 1321, 1322, 1323, 1324, 1325, 1326, 1327, 1328, 1329, 1331, 1332, 1333, 1334, 1335, 1336, 1337, 1338, 1339, 1341, 1342, 1343, 1344, 1345, 1346, 1347, 1348, 1349, 1351, 1352, 1353, 1354, 1355, 1356, 1357, 1358, 1359, 1361, 1362, 1363, 1364, 1365, 1366, 1367, 1368, 1369, 1371, 1372, 1373, 1374, 1375, 1376, 1377, 1378, 1379, 1381, 1382, 1383, 1384, 1385, 1386, 1387, 1388, 1389, 1391, 1392, 1393, 1394, 1395, 1396, 1397, 1398, 1399, 1401, 1402, 1403, 1404, 1405, 1406, 1407, 1408, 1409, 1411, 1412, 1413, 1414, 1415, 1416, 1417, 1418, 1419, 1421, 1422, 1423, 1424, 1425, 1426, 1427, 1428, 1429, 1431, 1432, 1433, 1434, 1435, 1436, 1437, 1438, 1439, 1441, 1442, 1443, 1444, 1445, 1446, 1447, 1448, 1449, 1451, 1452, 1453, 1454, 1455, 1456, 1457, 1458, 1459, 1461, 1462, 1463, 1464, 1465, 1466, 1467, 1468, 1469, 1471, 1472, 1473, 1474, 1475, 1476, 1477, 1478, 1479, 1481, 1482, 1483, 1484, 1485, 1486, 1487, 1488, 1489, 1491, 1492, 1493, 1494, 1495, 1496, 1497, 1498, 1499, 1501, 1502, 1503, 1504, 1505, 1506, 1507, 1508, 1509, 1511, 1512, 1513, 1514, 1515, 1516, 1517, 1518, 1519, 1521, 1522, 1523, 1524, 1525, 1526, 1527, 1528, 1529, 1531, 1532, 1533, 1534, 1535, 1536, 1537, 1538, 1539, 1541, 1542, 1543, 1544, 1545, 1546, 1547, 1548, 1549, 1551, 1552, 1553, 1554, 1555, 1556, 1557, 1558, 1559, 1561, 1562, 1563, 1564, 1565, 1566, 1567, 1568, 1569, 1571, 1572, 1573, 1574, 1575, 1576, 1577, 1578, 1579, 1581, 1582, 1583, 1584, 1585, 1586, 1587, 1588, 1589, 1591, 1592, 1593, 1594, 1595, 1596, 1597, 1598, 1599, 1601, 1602, 1603, 1604, 1605, 1606, 1607, 1608, 1609, 1611, 1612, 1613, 1614, 1615, 1616, 1617, 1618, 1619, 1621, 1622, 1623, 1624, 1625, 1626, 1627, 1628, 1629, 1631, 1632, 1633, 1634, 1635, 1636, 1637, 1638, 1639, 1641, 1642, 1643, 1644, 1645, 1646, 1647, 1648, 1649, 1651, 1652, 1653, 1654, 1655, 1656, 1657, 1658, 1659, 1661, 1662, 1663, 1664, 1665, 1666, 1667, 1668, 1669, 1671, 1672, 1673, 1674, 1675, 1676, 1677, 1678, 1679, 1681, 1682, 1683, 1684, 1685, 1686, 1687, 1688, 1689, 1691, 1692, 1693, 1694, 1695, 1696, 1697, 1698, 1699, 1701, 1702, 1703, 1704, 1705, 1706, 1707, 1708, 1709, 1711, 1712, 1713, 1714, 1715, 1716, 1717, 1718, 1719, 1721, 1722, 1723, 1724, 1725, 1726, 1727, 1728, 1729, 1731, 1732, 1733, 1734, 1735, 1736, 1737, 1738, 1739, 1741, 1742, 1743, 1744, 1745, 1746, 1747, 1748, 1749, 1751, 1752, 1753, 1754, 1755, 1756, 1757, 1758, 1759, 1761, 1762, 1763, 1764, 1765, 1766, 1767, 1768, 1769, 1771, 1772, 1773, 1774, 1775, 1776, 1777, 1778, 1779, 1781, 1782, 1783, 1784, 1785, 1786, 1787, 1788, 1789, 1791, 1792, 1793, 1794, 1795, 1796, 1797, 1798, 1799, 1801, 1802, 1803, 1804, 1805, 1806, 1807, 1808, 1809, 1811, 1812, 1813, 1814, 1815, 1816, 1817, 1818, 1819, 1821, 1822, 1823, 1824, 1825, 1826, 1827, 1828, 1829, 1831, 1832, 1833, 1834, 1835, 1836, 1837, 1838, 1839, 1841, 1842, 1843, 1844, 1845, 1846, 1847, 1848, 1849, 1851, 1852, 1853, 1854, 1855, 1856, 1857, 1858, 1859, 1861, 1862, 1863, 1864, 1865, 1866, 1867, 1868, 1869, 1871, 1872, 1873, 1874, 1875, 1876, 1877, 1878, 1879, 1881, 1882, 1883, 1884, 1885, 1886, 1887, 1888, 1889, 1891, 1892, 1893, 1894, 1895, 1896, 1897, 1898, 1899, 1901, 1902, 1903, 1904, 1905, 1906, 1907, 1908, 1909, 1911, 1912, 1913, 1914, 1915, 1916, 1917, 1918, 1919, 1921, 1922, 1923, 1924, 1925, 1926, 1927, 1928, 1929, 1931, 1932, 1933, 1934, 1935, 1936, 1937, 1938, 1939, 1941, 1942, 1943, 1944, 1945, 1946, 1947, 1948, 1949, 1951, 1952, 1953, 1954, 1955, 1956, 1957, 1958, 1959, 1961, 1962, 1963, 1964, 1965, 1966, 1967, 1968, 1969, 1971, 1972, 1973, 1974, 1975, 1976, 1977, 1978, 1979, 1981, 1982, 1983, 1984, 1985, 1986, 1987, 1988, 1989, 1991, 1992, 1993, 1994, 1995, 1996, 1997, 1998, 1999, 2001, 2002, 2003, 2004, 2005, 2006, 2007, 2008, 2009, 2011, 2012, 2013, 2014, 2015, 2016, 2017, 2018, 2019, 2021, 2022, 2023, 2024, 2025, 2026, 2027, 2028, 2029, 2031, 2032, 2033, 2034, 2035, 2036, 2037, 2038, 2039, 2041, 2042, 2043, 2044, 2045, 2046, 2047, 2048, 2049, 2051, 2052, 2053, 2054, 2055, 2056, 2057, 2058, 2059, 2061, 2062, 2063, 2064, 2065, 2066, 2067, 2068, 2069, 2071, 2072, 2073, 2074, 2075, 2076, 2077, 2078, 2079, 2081, 2082, 2083, 2084, 2085, 2086, 2087, 2088, 2089, 2091, 2092, 2093, 2094, 2095, 2096, 2097, 2098, 2099, 2101, 2102, 2103, 2104, 2105, 2106, 2107, 2108, 2109, 2111, 2112, 2113, 2114, 2115, 2116, 2117, 2118, 2119, 2121, 2122, 2123, 2124, 2125, 2126, 2127, 2128, 2129, 2131, 2132, 2133, 2134, 2135, 2136, 2137, 2138, 2139, 2141, 2142, 2143, 2144, 2145, 2146, 2147, 2148, 2149, 2151, 2152, 2153, 2154, 2155, 2156, 2157, 2158, 2159, 2161, 2162, 2163, 2164, 2165, 2166, 2167, 2168, 2169, 2171, 2172, 2173, 2174, 2175, 2176, 2177, 2178, 2179, 2181, 2182, 2183, 2184, 2185, 2186, 2187, 2188, 2189, 2191, 2192, 2193, 2194, 2195, 2196, 2197, 2198, 2199, 2201, 2202, 2203, 2204, 2205, 2206, 2207, 2208, 2209, 2211, 2212, 2213, 2214, 2215, 2216, 2217, 2218, 2219, 2221, 2222, 2223, 2224, 2225, 2226, 2227, 2228, 2229, 2231, 2232, 2233, 2234, 2235, 2236, 2237, 2238, 2239, 2241, 2242, 2243, 2244, 2245, 2246, 2247, 2248, 2249, 2251, 2252, 2253, 2254, 2255, 2256, 2257, 2258, 2259, 2261, 2262, 2263, 2264, 2265, 2266, 2267, 2268, 2269, 2271, 2272, 2273, 2274, 2275, 2276, 2277, 2278, 2279, 2281, 2282, 2283, 2284, 2285, 2286, 2287, 2288, 2289, 2291, 2292, 2293, 2294, 2295, 2296, 2297, 2298, 2299, 2301, 2302, 2303, 2304, 2305, 2306, 2307, 2308, 2309, 2311, 2312, 2313, 2314, 2315, 2316, 2317, 2318, 2319, 2321, 2322, 2323, 2324, 2325, 2326, 2327, 2328, 2329, 2331, 2332, 2333, 2334, 2335, 2336, 2337, 2338, 2339, 2341, 2342, 2343, 2344, 2345, 2346, 2347, 2348, 2349, 2351, 2352, 2353, 2354, 2355, 2356, 2357, 2358, 2359, 2361, 2362, 2363, 2364, 2365, 2366, 2367, 2368, 2369, 2371, 2372, 2373, 2374, 2375, 2376, 2377, 2378, 2379, 2381, 2382, 2383, 2384, 2385, 2386, 2387, 2388, 2389, 2391, 2392, 2393, 2394, 2395, 2396, 2397, 2398, 2399, 2401, 2402, 2403, 2404, 2405, 2406, 2407, 2408, 2409, 2411, 2412, 2413, 2414, 2415, 2416, 2417, 2418, 2419, 2421, 2422, 2423, 2424, 2425, 2426, 2427, 2428, 2429, 2431, 2432, 2433, 2434, 2435, 2436, 2437, 2438, 2439, 2441, 2442, 2443, 2444, 2445, 2446, 2447, 2448, 2449, 2451, 2452, 2453, 2454, 2455, 2456, 2457, 2458, 2459, 2461, 2462, 2463, 2464, 2465, 2466, 2467, 2468, 2469, 2471, 2472, 2473, 2474, 2475, 2476, 2477, 2478, 2479, 2481, 2482, 2483, 2484, 2485, 2486, 2487, 2488, 2489, 2491, 2492, 2493, 2494, 2495, 2496, 2497, 2498, 2499, 2501, 2502, 2503, 2504, 2505, 2506, 2507, 2508, 2509, 2511, 2512, 2513, 2514, 2515, 2516, 2517, 2518, 2519, 2521, 2522, 2523, 2524, 2525, 2526, 2527, 2528, 2529, 2531, 2532, 2533, 2534, 2535, 2536, 2537, 2538, 2539, 2541, 2542, 2543, 2544, 2545, 2546, 2547, 2548, 2549, 2551, 2552, 2553, 2554, 2555, 2556, 2557, 2558, 2559, 2561, 2562, 2563, 2564, 2565, 2566, 2567, 2568, 2569, 2571, 2572, 2573, 2574, 2575, 2576, 2577, 2578, 2579, 2581, 2582, 2583, 2584, 2585, 2586, 2587, 2588, 2589, 2591, 2592, 2593, 2594, 2595, 2596, 2597, 2598, 2599, 2601, 2602, 2603, 2604, 2605, 2606, 2607, 2608, 2609, 2611, 2612, 2613, 2614, 2615, 2616, 2617, 2618, 2619, 2621, 2622, 2623, 2624, 2625, 2626, 2627, 2628, 2629, 2631, 2632, 2633, 2634, 2635, 2636, 2637, 2638, 2639, 2641, 2642, 2643, 2644, 2645, 2646, 2647, 2648, 2649, 2651, 2652, 2653, 2654, 2655, 2656, 2657, 2658, 2659, 2661, 2662, 2663, 2664, 2665, 2666, 2667, 2668, 2669, 2671, 2672, 2673, 2674, 2675, 2676, 2677, 2678, 2679, 2681, 2682, 2683, 2684, 2685, 2686, 2687, 2688, 2689, 2691, 2692, 2693, 2694, 2695, 2696, 2697, 2698, 2699]\n",
            "Finished reading the train set of COVID19 Dataset (2430 samples found, each dim = 93)\n",
            "tr_set.dataset.dim : 93\n",
            "tr_set.dataset : <__main__.COVID19Dataset object at 0x1548c0fe0>\n",
            "tr_set.dataset : (tensor([[ 1.0000,  0.0000,  0.0000,  ..., -1.0983, -1.7987, -0.3048],\n",
            "        [ 1.0000,  0.0000,  0.0000,  ..., -1.1825, -1.9900, -0.3172],\n",
            "        [ 1.0000,  0.0000,  0.0000,  ..., -1.1497, -1.9716, -0.2380],\n",
            "        ...,\n",
            "        [ 0.0000,  0.0000,  0.0000,  ..., -0.1995,  0.4650, -1.1138],\n",
            "        [ 0.0000,  0.0000,  0.0000,  ..., -0.0396,  0.4752, -1.1416],\n",
            "        [ 0.0000,  0.0000,  0.0000,  ...,  0.0200,  0.5538, -1.1686]]), tensor([21.1667, 19.8966, 20.1784,  ..., 12.6134, 12.4772, 11.8117]))\n",
            "convert data into PyTorch tensors with  [0, 10, 20, 30, 40, 50, 60, 70, 80, 90, 100, 110, 120, 130, 140, 150, 160, 170, 180, 190, 200, 210, 220, 230, 240, 250, 260, 270, 280, 290, 300, 310, 320, 330, 340, 350, 360, 370, 380, 390, 400, 410, 420, 430, 440, 450, 460, 470, 480, 490, 500, 510, 520, 530, 540, 550, 560, 570, 580, 590, 600, 610, 620, 630, 640, 650, 660, 670, 680, 690, 700, 710, 720, 730, 740, 750, 760, 770, 780, 790, 800, 810, 820, 830, 840, 850, 860, 870, 880, 890, 900, 910, 920, 930, 940, 950, 960, 970, 980, 990, 1000, 1010, 1020, 1030, 1040, 1050, 1060, 1070, 1080, 1090, 1100, 1110, 1120, 1130, 1140, 1150, 1160, 1170, 1180, 1190, 1200, 1210, 1220, 1230, 1240, 1250, 1260, 1270, 1280, 1290, 1300, 1310, 1320, 1330, 1340, 1350, 1360, 1370, 1380, 1390, 1400, 1410, 1420, 1430, 1440, 1450, 1460, 1470, 1480, 1490, 1500, 1510, 1520, 1530, 1540, 1550, 1560, 1570, 1580, 1590, 1600, 1610, 1620, 1630, 1640, 1650, 1660, 1670, 1680, 1690, 1700, 1710, 1720, 1730, 1740, 1750, 1760, 1770, 1780, 1790, 1800, 1810, 1820, 1830, 1840, 1850, 1860, 1870, 1880, 1890, 1900, 1910, 1920, 1930, 1940, 1950, 1960, 1970, 1980, 1990, 2000, 2010, 2020, 2030, 2040, 2050, 2060, 2070, 2080, 2090, 2100, 2110, 2120, 2130, 2140, 2150, 2160, 2170, 2180, 2190, 2200, 2210, 2220, 2230, 2240, 2250, 2260, 2270, 2280, 2290, 2300, 2310, 2320, 2330, 2340, 2350, 2360, 2370, 2380, 2390, 2400, 2410, 2420, 2430, 2440, 2450, 2460, 2470, 2480, 2490, 2500, 2510, 2520, 2530, 2540, 2550, 2560, 2570, 2580, 2590, 2600, 2610, 2620, 2630, 2640, 2650, 2660, 2670, 2680, 2690]\n",
            "Finished reading the dev set of COVID19 Dataset (270 samples found, each dim = 93)\n",
            "Finished reading the test set of COVID19 Dataset (893 samples found, each dim = 93)\n"
          ]
        }
      ],
      "source": [
        "tr_set = prep_dataloader(tr_path, 'train', config['batch_size'], target_only=target_only)\n",
        "print(\"tr_set.dataset.dim :\", tr_set.dataset.dim)\n",
        "print(\"tr_set.dataset :\", tr_set.dataset)\n",
        "print(\"tr_set.dataset :\", tr_set.dataset[1:])\n",
        "\n",
        "dv_set = prep_dataloader(tr_path, 'dev', config['batch_size'], target_only=target_only)\n",
        "tt_set = prep_dataloader(tt_path, 'test', config['batch_size'], target_only=target_only)"
      ]
    },
    {
      "cell_type": "code",
      "execution_count": 63,
      "id": "349d34e7",
      "metadata": {
        "id": "349d34e7"
      },
      "outputs": [],
      "source": [
        "model = NeuralNet(tr_set.dataset.dim).to(device) # Construct model and move to device"
      ]
    },
    {
      "cell_type": "markdown",
      "id": "2fe3586e",
      "metadata": {
        "id": "2fe3586e"
      },
      "source": [
        "## Start Training !"
      ]
    },
    {
      "cell_type": "code",
      "execution_count": 64,
      "id": "a75a60bc",
      "metadata": {
        "colab": {
          "base_uri": "https://localhost:8080/"
        },
        "id": "a75a60bc",
        "outputId": "08490bde-08e6-484f-9825-6baafd74ca04"
      },
      "outputs": [
        {
          "name": "stderr",
          "output_type": "stream",
          "text": [
            "/Users/jieanyang/Documents/freelancer_work/gpt-ai-flow/ml-lab/.venv/lib/python3.12/site-packages/torch/utils/data/dataloader.py:684: UserWarning: 'pin_memory' argument is set as true but not supported on MPS now, then device pinned memory won't be used.\n",
            "  warnings.warn(warn_msg)\n"
          ]
        },
        {
          "name": "stdout",
          "output_type": "stream",
          "text": [
            "Saving model (epoch =    1, loss = 79.2670)\n",
            "Saving model (epoch =    2, loss = 38.0115)\n",
            "Saving model (epoch =    3, loss = 26.5201)\n",
            "Saving model (epoch =    4, loss = 16.5943)\n",
            "Saving model (epoch =    5, loss = 10.1237)\n",
            "Saving model (epoch =    6, loss = 6.7799)\n",
            "Saving model (epoch =    7, loss = 5.5920)\n",
            "Saving model (epoch =    8, loss = 4.8351)\n",
            "Saving model (epoch =    9, loss = 4.2081)\n",
            "Saving model (epoch =   10, loss = 3.7768)\n",
            "Saving model (epoch =   11, loss = 3.5027)\n",
            "Saving model (epoch =   12, loss = 3.2238)\n",
            "Saving model (epoch =   13, loss = 3.0321)\n",
            "Saving model (epoch =   14, loss = 2.8576)\n",
            "Saving model (epoch =   15, loss = 2.7017)\n",
            "Saving model (epoch =   16, loss = 2.5749)\n",
            "Saving model (epoch =   17, loss = 2.4589)\n",
            "Saving model (epoch =   18, loss = 2.3321)\n",
            "Saving model (epoch =   19, loss = 2.2905)\n",
            "Saving model (epoch =   20, loss = 2.1858)\n",
            "Saving model (epoch =   21, loss = 2.1030)\n",
            "Saving model (epoch =   22, loss = 2.0342)\n",
            "Saving model (epoch =   23, loss = 1.9797)\n",
            "Saving model (epoch =   24, loss = 1.9494)\n",
            "Saving model (epoch =   25, loss = 1.9063)\n",
            "Saving model (epoch =   26, loss = 1.8575)\n",
            "Saving model (epoch =   27, loss = 1.8036)\n",
            "Saving model (epoch =   28, loss = 1.7841)\n",
            "Saving model (epoch =   29, loss = 1.7521)\n",
            "Saving model (epoch =   30, loss = 1.7265)\n",
            "Saving model (epoch =   31, loss = 1.7049)\n",
            "Saving model (epoch =   32, loss = 1.6636)\n",
            "Saving model (epoch =   33, loss = 1.6601)\n",
            "Saving model (epoch =   34, loss = 1.6262)\n",
            "Saving model (epoch =   36, loss = 1.6207)\n",
            "Saving model (epoch =   37, loss = 1.5925)\n",
            "Saving model (epoch =   38, loss = 1.5889)\n",
            "Saving model (epoch =   41, loss = 1.5324)\n",
            "Saving model (epoch =   42, loss = 1.5233)\n",
            "Saving model (epoch =   44, loss = 1.4964)\n",
            "Saving model (epoch =   47, loss = 1.4835)\n",
            "Saving model (epoch =   48, loss = 1.4668)\n",
            "Saving model (epoch =   50, loss = 1.4554)\n",
            "Saving model (epoch =   53, loss = 1.4370)\n",
            "Saving model (epoch =   54, loss = 1.4303)\n",
            "Saving model (epoch =   57, loss = 1.4203)\n",
            "Saving model (epoch =   58, loss = 1.4083)\n",
            "Saving model (epoch =   60, loss = 1.3932)\n",
            "Saving model (epoch =   63, loss = 1.3884)\n",
            "Saving model (epoch =   66, loss = 1.3653)\n",
            "Saving model (epoch =   70, loss = 1.3474)\n",
            "Saving model (epoch =   72, loss = 1.3398)\n",
            "Saving model (epoch =   73, loss = 1.3299)\n",
            "Saving model (epoch =   75, loss = 1.3213)\n",
            "Saving model (epoch =   78, loss = 1.3187)\n",
            "Saving model (epoch =   79, loss = 1.3130)\n",
            "Saving model (epoch =   85, loss = 1.3095)\n",
            "Saving model (epoch =   86, loss = 1.3027)\n",
            "Saving model (epoch =   90, loss = 1.2992)\n",
            "Saving model (epoch =   91, loss = 1.2933)\n",
            "Saving model (epoch =   92, loss = 1.2925)\n",
            "Saving model (epoch =   93, loss = 1.2706)\n",
            "Saving model (epoch =   95, loss = 1.2595)\n",
            "Saving model (epoch =  104, loss = 1.2550)\n",
            "Saving model (epoch =  107, loss = 1.2408)\n",
            "Saving model (epoch =  110, loss = 1.2311)\n",
            "Saving model (epoch =  116, loss = 1.2250)\n",
            "Saving model (epoch =  117, loss = 1.2239)\n",
            "Saving model (epoch =  124, loss = 1.2168)\n",
            "Saving model (epoch =  128, loss = 1.1963)\n",
            "Saving model (epoch =  139, loss = 1.1846)\n",
            "Saving model (epoch =  146, loss = 1.1832)\n",
            "Saving model (epoch =  156, loss = 1.1828)\n",
            "Saving model (epoch =  158, loss = 1.1813)\n",
            "Saving model (epoch =  159, loss = 1.1638)\n",
            "Saving model (epoch =  167, loss = 1.1569)\n",
            "Saving model (epoch =  173, loss = 1.1520)\n",
            "Saving model (epoch =  177, loss = 1.1476)\n",
            "Saving model (epoch =  178, loss = 1.1434)\n",
            "Saving model (epoch =  182, loss = 1.1383)\n",
            "Saving model (epoch =  187, loss = 1.1379)\n",
            "Saving model (epoch =  196, loss = 1.1336)\n",
            "Saving model (epoch =  199, loss = 1.1215)\n",
            "Saving model (epoch =  212, loss = 1.1138)\n",
            "Saving model (epoch =  230, loss = 1.1108)\n",
            "Saving model (epoch =  235, loss = 1.1070)\n",
            "Saving model (epoch =  238, loss = 1.1041)\n",
            "Saving model (epoch =  241, loss = 1.1040)\n",
            "Saving model (epoch =  244, loss = 1.1030)\n",
            "Saving model (epoch =  251, loss = 1.0964)\n",
            "Saving model (epoch =  253, loss = 1.0946)\n",
            "Saving model (epoch =  255, loss = 1.0945)\n",
            "Saving model (epoch =  258, loss = 1.0883)\n",
            "Saving model (epoch =  274, loss = 1.0849)\n",
            "Saving model (epoch =  284, loss = 1.0791)\n",
            "Saving model (epoch =  297, loss = 1.0750)\n",
            "Saving model (epoch =  305, loss = 1.0739)\n",
            "Saving model (epoch =  308, loss = 1.0686)\n",
            "Saving model (epoch =  312, loss = 1.0641)\n",
            "Saving model (epoch =  320, loss = 1.0634)\n",
            "Saving model (epoch =  324, loss = 1.0561)\n",
            "Saving model (epoch =  339, loss = 1.0555)\n",
            "Saving model (epoch =  340, loss = 1.0535)\n",
            "Saving model (epoch =  359, loss = 1.0446)\n",
            "Saving model (epoch =  387, loss = 1.0389)\n",
            "Saving model (epoch =  392, loss = 1.0361)\n",
            "Saving model (epoch =  404, loss = 1.0284)\n",
            "Saving model (epoch =  426, loss = 1.0258)\n",
            "Saving model (epoch =  429, loss = 1.0235)\n",
            "Saving model (epoch =  444, loss = 1.0230)\n",
            "Saving model (epoch =  446, loss = 1.0203)\n",
            "Saving model (epoch =  451, loss = 1.0200)\n",
            "Saving model (epoch =  458, loss = 1.0199)\n",
            "Saving model (epoch =  461, loss = 1.0173)\n",
            "Saving model (epoch =  466, loss = 1.0095)\n",
            "Saving model (epoch =  514, loss = 1.0004)\n",
            "Saving model (epoch =  535, loss = 0.9974)\n",
            "Saving model (epoch =  561, loss = 0.9904)\n",
            "Saving model (epoch =  584, loss = 0.9839)\n",
            "Saving model (epoch =  645, loss = 0.9701)\n",
            "Saving model (epoch =  712, loss = 0.9700)\n",
            "Saving model (epoch =  717, loss = 0.9684)\n",
            "Saving model (epoch =  749, loss = 0.9675)\n",
            "Saving model (epoch =  761, loss = 0.9654)\n",
            "Saving model (epoch =  765, loss = 0.9641)\n",
            "Saving model (epoch =  772, loss = 0.9584)\n",
            "Saving model (epoch =  776, loss = 0.9542)\n",
            "Saving model (epoch =  899, loss = 0.9528)\n",
            "Saving model (epoch =  916, loss = 0.9518)\n",
            "Saving model (epoch =  933, loss = 0.9505)\n",
            "Saving model (epoch =  937, loss = 0.9499)\n",
            "Saving model (epoch =  972, loss = 0.9487)\n",
            "Saving model (epoch = 1021, loss = 0.9481)\n",
            "Saving model (epoch = 1026, loss = 0.9476)\n",
            "Saving model (epoch = 1027, loss = 0.9407)\n",
            "Saving model (epoch = 1112, loss = 0.9402)\n",
            "Saving model (epoch = 1196, loss = 0.9384)\n",
            "Saving model (epoch = 1203, loss = 0.9335)\n",
            "Saving model (epoch = 1401, loss = 0.9319)\n",
            "Saving model (epoch = 1465, loss = 0.9312)\n",
            "Saving model (epoch = 1507, loss = 0.9293)\n",
            "Saving model (epoch = 1528, loss = 0.9284)\n",
            "Saving model (epoch = 1559, loss = 0.9279)\n",
            "Saving model (epoch = 1582, loss = 0.9246)\n",
            "Finished training after 1783 epochs\n"
          ]
        }
      ],
      "source": [
        "model_loss, model_loss_record = train(tr_set, dv_set, model, config, device)"
      ]
    },
    {
      "cell_type": "code",
      "execution_count": 65,
      "id": "6ac36d20",
      "metadata": {
        "colab": {
          "base_uri": "https://localhost:8080/",
          "height": 410
        },
        "id": "6ac36d20",
        "outputId": "9ed35aed-58d8-4ac5-fb6a-4451984484e5"
      },
      "outputs": [
        {
          "data": {
            "image/png": "[encoded data removed]",
            "text/plain": [
              "<Figure size 600x400 with 1 Axes>"
            ]
          },
          "metadata": {},
          "output_type": "display_data"
        }
      ],
      "source": [
        "plot_learning_curve(model_loss_record, title='deep model')"
      ]
    },
    {
      "cell_type": "code",
      "execution_count": 66,
      "id": "c83acbf9",
      "metadata": {
        "colab": {
          "base_uri": "https://localhost:8080/",
          "height": 487
        },
        "id": "c83acbf9",
        "outputId": "1236a4f0-8c70-457e-b758-f68af41bc070"
      },
      "outputs": [
        {
          "data": {
            "image/png": "[encoded data removed]",
            "text/plain": [
              "<Figure size 500x500 with 1 Axes>"
            ]
          },
          "metadata": {},
          "output_type": "display_data"
        }
      ],
      "source": [
        "del model\n",
        "model = NeuralNet(tr_set.dataset.dim).to(device)\n",
        "ckpt = torch.load(config['save_path'], map_location='cpu') # Load your best model\n",
        "model.load_state_dict(ckpt)\n",
        "plot_pred(dv_set, model, device) # Show prediction on the validation set"
      ]
    },
    {
      "cell_type": "markdown",
      "id": "e55d4a7f",
      "metadata": {
        "id": "e55d4a7f"
      },
      "source": [
        "## Testing"
      ]
    },
    {
      "cell_type": "code",
      "execution_count": 67,
      "id": "30fa5841",
      "metadata": {
        "colab": {
          "base_uri": "https://localhost:8080/"
        },
        "id": "30fa5841",
        "outputId": "f87d1692-0b60-4297-f498-2e0fc52c77aa"
      },
      "outputs": [
        {
          "name": "stdout",
          "output_type": "stream",
          "text": [
            "Saving results to pred.csv\n"
          ]
        }
      ],
      "source": [
        "def save_pred(preds, file):\n",
        "    \"\"\"Save predictions to specified file\"\"\"\n",
        "    print('Saving results to {}'.format(file))\n",
        "    with open(file, 'w') as fp:\n",
        "        writer = csv.writer(fp)\n",
        "        writer.writerow(['id', 'tested_positive'])\n",
        "        for i, p in enumerate(preds):\n",
        "            writer.writerow([i, p])\n",
        "\n",
        "preds = test(tt_set, model, device) # predict COVID-19 cases with your model\n",
        "save_pred(preds, 'pred.csv')        # save prediction to pred.csv"
      ]
    }
  ],
  "metadata": {
    "accelerator": "GPU",
    "colab": {
      "gpuType": "T4",
      "provenance": []
    },
    "kernelspec": {
      "display_name": "Python 3",
      "name": "python3"
    },
    "language_info": {
      "codemirror_mode": {
        "name": "ipython",
        "version": 3
      },
      "file_extension": ".py",
      "mimetype": "text/x-python",
      "name": "python",
      "nbconvert_exporter": "python",
      "pygments_lexer": "ipython3",
      "version": "3.12.3"
    }
  },
  "nbformat": 4,
  "nbformat_minor": 5
}
