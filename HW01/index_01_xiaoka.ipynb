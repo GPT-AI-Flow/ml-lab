{
  "cells": [
    {
      "cell_type": "code",
      "execution_count": 7,
      "id": "5c2d13e8",
      "metadata": {
        "id": "5c2d13e8"
      },
      "outputs": [],
      "source": [
        "tr_path = \"./data/covid.train.csv\"\n",
        "tt_path = \"./data/covid.test.csv\""
      ]
    },
    {
      "cell_type": "code",
      "execution_count": 12,
      "id": "78bcc856",
      "metadata": {
        "id": "78bcc856"
      },
      "outputs": [],
      "source": [
        "# PyTorch\n",
        "import torch\n",
        "import torch.nn as nn\n",
        "from torch.utils.data import Dataset, DataLoader\n",
        "\n",
        "# For data preprocess\n",
        "import numpy as np\n",
        "import csv\n",
        "import os\n",
        "\n",
        "# For plotting\n",
        "import matplotlib.pyplot as plt\n",
        "from matplotlib.pyplot import figure\n",
        "\n",
        "# Sklearn\n",
        "import sklearn\n",
        "from sklearn.feature_selection import SelectKBest, f_regression\n",
        "from sklearn import preprocessing\n",
        "\n",
        "# Pandas\n",
        "import pandas as pd\n",
        "\n",
        "# Random\n",
        "import random"
      ]
    },
    {
      "cell_type": "code",
      "source": [
        "def set_seed(seed):\n",
        "  \"\"\"为所有常见的随机性来源设置种子\"\"\"\n",
        "  np.random.seed(seed)    # 为 NumPy 设置种子\n",
        "  random.seed(seed)       # 为 Python 内置 random 模块设置种子\n",
        "  torch.manual_seed(seed) # 为 PyTorch CPU 设置种子\n",
        "  if torch.cuda.is_available():\n",
        "    torch.cuda.manual_seed(seed) # 为当前GPU设置种子\n",
        "    torch.cuda.manual_seed_all(seed) # 为所有GPU设置种子（如果有多块）\n",
        "\n",
        "  # 一些 CuDNN 基准优化操作本身具有不确定性，固定它们以保证可重复性\n",
        "  torch.backends.cudnn.deterministic = True\n",
        "  torch.backends.cudnn.benchmark = False\n",
        "\n",
        "  # 为 Python 环境变量设置种子（影响哈希等行为）\n",
        "  os.environ['PYTHONHASHSEED'] = str(seed)\n",
        "\n",
        "myseed = 42069\n",
        "set_seed(myseed)\n",
        "\n",
        "device_count = torch.cuda.device_count()\n",
        "print(f\"Number of CUDA devices: {device_count}\")"
      ],
      "metadata": {
        "colab": {
          "base_uri": "https://localhost:8080/"
        },
        "id": "TrsmSaTPym8K",
        "outputId": "24a8aee7-ae6b-4ff3-b8f9-fab72e2b6a9c"
      },
      "id": "TrsmSaTPym8K",
      "execution_count": 13,
      "outputs": [
        {
          "output_type": "stream",
          "name": "stdout",
          "text": [
            "Number of CUDA devices: 1\n"
          ]
        }
      ]
    },
    {
      "cell_type": "code",
      "source": [
        "# Set Essential Functions\n",
        "\n",
        "def get_device():\n",
        "  \"\"\"Get device (if GPU is available, use GPT)\"\"\"\n",
        "  return 'cuda' if torch.cuda.is_available() else 'cpu'\n",
        "\n",
        "def plot_learning_curve(loss_record, title=''):\n",
        "  \"\"\"Plot learning curve of you DNN (train & dev loss)\"\"\""
      ],
      "metadata": {
        "id": "7FAfDo1sz1RQ"
      },
      "id": "7FAfDo1sz1RQ",
      "execution_count": null,
      "outputs": []
    }
  ],
  "metadata": {
    "kernelspec": {
      "display_name": "Python 3",
      "name": "python3"
    },
    "language_info": {
      "codemirror_mode": {
        "name": "ipython",
        "version": 3
      },
      "file_extension": ".py",
      "mimetype": "text/x-python",
      "name": "python",
      "nbconvert_exporter": "python",
      "pygments_lexer": "ipython3",
      "version": "3.12.3"
    },
    "colab": {
      "provenance": []
    }
  },
  "nbformat": 4,
  "nbformat_minor": 5
}